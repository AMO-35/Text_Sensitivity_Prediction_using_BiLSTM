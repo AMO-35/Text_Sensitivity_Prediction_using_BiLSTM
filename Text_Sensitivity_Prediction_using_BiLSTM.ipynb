{
  "nbformat": 4,
  "nbformat_minor": 0,
  "metadata": {
    "colab": {
      "provenance": [],
      "include_colab_link": true
    },
    "kernelspec": {
      "name": "python3",
      "display_name": "Python 3"
    },
    "language_info": {
      "name": "python"
    }
  },
  "cells": [
    {
      "cell_type": "markdown",
      "metadata": {
        "id": "view-in-github",
        "colab_type": "text"
      },
      "source": [
        "<a href=\"https://colab.research.google.com/github/AMO-35/Text_Sensitivity_Prediction_using_BiLSTM/blob/main/Text_Sensitivity_Prediction_using_BiLSTM.ipynb\" target=\"_parent\"><img src=\"https://colab.research.google.com/assets/colab-badge.svg\" alt=\"Open In Colab\"/></a>"
      ]
    },
    {
      "cell_type": "code",
      "execution_count": null,
      "metadata": {
        "id": "Qc-yztxGTvnZ",
        "colab": {
          "base_uri": "https://localhost:8080/",
          "height": 36
        },
        "outputId": "16788bac-5b42-4c0b-d88d-95aff611932f"
      },
      "outputs": [
        {
          "output_type": "execute_result",
          "data": {
            "text/plain": [
              "''"
            ],
            "application/vnd.google.colaboratory.intrinsic+json": {
              "type": "string"
            }
          },
          "metadata": {},
          "execution_count": 2
        }
      ],
      "source": [
        "import pandas as pd\n",
        "import re\n",
        "import matplotlib.pyplot as plt\n",
        "import tensorflow as tf\n",
        "\n",
        "from tensorflow.python.client import device_lib\n",
        "tf.test.gpu_device_name()"
      ]
    },
    {
      "cell_type": "code",
      "source": [
        "from google.colab import drive\n",
        "drive.mount('/content/drive')"
      ],
      "metadata": {
        "colab": {
          "base_uri": "https://localhost:8080/"
        },
        "id": "X1l1WN2sTz4g",
        "outputId": "be514919-ef0d-4cc2-9729-41d51a13af5c"
      },
      "execution_count": null,
      "outputs": [
        {
          "output_type": "stream",
          "name": "stdout",
          "text": [
            "Mounted at /content/drive\n"
          ]
        }
      ]
    },
    {
      "cell_type": "code",
      "source": [
        "df1 = pd.read_csv(\"/content/drive/MyDrive/text_sensitivity_final_v2.csv\")"
      ],
      "metadata": {
        "id": "bNDO8Q_3hmVP"
      },
      "execution_count": null,
      "outputs": []
    },
    {
      "cell_type": "code",
      "source": [
        "df = pd.read_csv('/content/drive/MyDrive/text_sensitivity_final_v2.csv')\n"
      ],
      "metadata": {
        "id": "YFaFt74CT_cQ"
      },
      "execution_count": null,
      "outputs": []
    },
    {
      "cell_type": "code",
      "source": [
        "df.head()"
      ],
      "metadata": {
        "id": "O09Kz_VaYkQh",
        "outputId": "85c9cd3b-594b-405b-8ccc-be83ca37f252",
        "colab": {
          "base_uri": "https://localhost:8080/",
          "height": 206
        }
      },
      "execution_count": null,
      "outputs": [
        {
          "output_type": "execute_result",
          "data": {
            "text/plain": [
              "   Unnamed: 0                                               text  label\n",
              "0           0  হান্টার বাইডেনের দোষ স্বীকার করে নেওয়ার চুক্তি...      0\n",
              "1           1  যুক্তরাষ্ট্রের নৌবাহিনীর প্রধান পদে প্রথম কোনো...      0\n",
              "2           2  মাত্র ২৪ ঘণ্টায় ইউক্রেনে যেভাবে শান্তি নিশ্চিত...      0\n",
              "3           3                              প্রিগোজিন এখন রাশিয়ায়      0\n",
              "4           4         আফ্রিকার ৬ দেশকে বিনামূল্যে গম দেবে রাশিয়া      0"
            ],
            "text/html": [
              "\n",
              "  <div id=\"df-23d5f625-1888-40a3-a791-e17b8303e36b\" class=\"colab-df-container\">\n",
              "    <div>\n",
              "<style scoped>\n",
              "    .dataframe tbody tr th:only-of-type {\n",
              "        vertical-align: middle;\n",
              "    }\n",
              "\n",
              "    .dataframe tbody tr th {\n",
              "        vertical-align: top;\n",
              "    }\n",
              "\n",
              "    .dataframe thead th {\n",
              "        text-align: right;\n",
              "    }\n",
              "</style>\n",
              "<table border=\"1\" class=\"dataframe\">\n",
              "  <thead>\n",
              "    <tr style=\"text-align: right;\">\n",
              "      <th></th>\n",
              "      <th>Unnamed: 0</th>\n",
              "      <th>text</th>\n",
              "      <th>label</th>\n",
              "    </tr>\n",
              "  </thead>\n",
              "  <tbody>\n",
              "    <tr>\n",
              "      <th>0</th>\n",
              "      <td>0</td>\n",
              "      <td>হান্টার বাইডেনের দোষ স্বীকার করে নেওয়ার চুক্তি...</td>\n",
              "      <td>0</td>\n",
              "    </tr>\n",
              "    <tr>\n",
              "      <th>1</th>\n",
              "      <td>1</td>\n",
              "      <td>যুক্তরাষ্ট্রের নৌবাহিনীর প্রধান পদে প্রথম কোনো...</td>\n",
              "      <td>0</td>\n",
              "    </tr>\n",
              "    <tr>\n",
              "      <th>2</th>\n",
              "      <td>2</td>\n",
              "      <td>মাত্র ২৪ ঘণ্টায় ইউক্রেনে যেভাবে শান্তি নিশ্চিত...</td>\n",
              "      <td>0</td>\n",
              "    </tr>\n",
              "    <tr>\n",
              "      <th>3</th>\n",
              "      <td>3</td>\n",
              "      <td>প্রিগোজিন এখন রাশিয়ায়</td>\n",
              "      <td>0</td>\n",
              "    </tr>\n",
              "    <tr>\n",
              "      <th>4</th>\n",
              "      <td>4</td>\n",
              "      <td>আফ্রিকার ৬ দেশকে বিনামূল্যে গম দেবে রাশিয়া</td>\n",
              "      <td>0</td>\n",
              "    </tr>\n",
              "  </tbody>\n",
              "</table>\n",
              "</div>\n",
              "    <div class=\"colab-df-buttons\">\n",
              "\n",
              "  <div class=\"colab-df-container\">\n",
              "    <button class=\"colab-df-convert\" onclick=\"convertToInteractive('df-23d5f625-1888-40a3-a791-e17b8303e36b')\"\n",
              "            title=\"Convert this dataframe to an interactive table.\"\n",
              "            style=\"display:none;\">\n",
              "\n",
              "  <svg xmlns=\"http://www.w3.org/2000/svg\" height=\"24px\" viewBox=\"0 -960 960 960\">\n",
              "    <path d=\"M120-120v-720h720v720H120Zm60-500h600v-160H180v160Zm220 220h160v-160H400v160Zm0 220h160v-160H400v160ZM180-400h160v-160H180v160Zm440 0h160v-160H620v160ZM180-180h160v-160H180v160Zm440 0h160v-160H620v160Z\"/>\n",
              "  </svg>\n",
              "    </button>\n",
              "\n",
              "  <style>\n",
              "    .colab-df-container {\n",
              "      display:flex;\n",
              "      gap: 12px;\n",
              "    }\n",
              "\n",
              "    .colab-df-convert {\n",
              "      background-color: #E8F0FE;\n",
              "      border: none;\n",
              "      border-radius: 50%;\n",
              "      cursor: pointer;\n",
              "      display: none;\n",
              "      fill: #1967D2;\n",
              "      height: 32px;\n",
              "      padding: 0 0 0 0;\n",
              "      width: 32px;\n",
              "    }\n",
              "\n",
              "    .colab-df-convert:hover {\n",
              "      background-color: #E2EBFA;\n",
              "      box-shadow: 0px 1px 2px rgba(60, 64, 67, 0.3), 0px 1px 3px 1px rgba(60, 64, 67, 0.15);\n",
              "      fill: #174EA6;\n",
              "    }\n",
              "\n",
              "    .colab-df-buttons div {\n",
              "      margin-bottom: 4px;\n",
              "    }\n",
              "\n",
              "    [theme=dark] .colab-df-convert {\n",
              "      background-color: #3B4455;\n",
              "      fill: #D2E3FC;\n",
              "    }\n",
              "\n",
              "    [theme=dark] .colab-df-convert:hover {\n",
              "      background-color: #434B5C;\n",
              "      box-shadow: 0px 1px 3px 1px rgba(0, 0, 0, 0.15);\n",
              "      filter: drop-shadow(0px 1px 2px rgba(0, 0, 0, 0.3));\n",
              "      fill: #FFFFFF;\n",
              "    }\n",
              "  </style>\n",
              "\n",
              "    <script>\n",
              "      const buttonEl =\n",
              "        document.querySelector('#df-23d5f625-1888-40a3-a791-e17b8303e36b button.colab-df-convert');\n",
              "      buttonEl.style.display =\n",
              "        google.colab.kernel.accessAllowed ? 'block' : 'none';\n",
              "\n",
              "      async function convertToInteractive(key) {\n",
              "        const element = document.querySelector('#df-23d5f625-1888-40a3-a791-e17b8303e36b');\n",
              "        const dataTable =\n",
              "          await google.colab.kernel.invokeFunction('convertToInteractive',\n",
              "                                                    [key], {});\n",
              "        if (!dataTable) return;\n",
              "\n",
              "        const docLinkHtml = 'Like what you see? Visit the ' +\n",
              "          '<a target=\"_blank\" href=https://colab.research.google.com/notebooks/data_table.ipynb>data table notebook</a>'\n",
              "          + ' to learn more about interactive tables.';\n",
              "        element.innerHTML = '';\n",
              "        dataTable['output_type'] = 'display_data';\n",
              "        await google.colab.output.renderOutput(dataTable, element);\n",
              "        const docLink = document.createElement('div');\n",
              "        docLink.innerHTML = docLinkHtml;\n",
              "        element.appendChild(docLink);\n",
              "      }\n",
              "    </script>\n",
              "  </div>\n",
              "\n",
              "\n",
              "<div id=\"df-3b67c56c-52ce-4fd7-95c7-b6dc4687bb5a\">\n",
              "  <button class=\"colab-df-quickchart\" onclick=\"quickchart('df-3b67c56c-52ce-4fd7-95c7-b6dc4687bb5a')\"\n",
              "            title=\"Suggest charts\"\n",
              "            style=\"display:none;\">\n",
              "\n",
              "<svg xmlns=\"http://www.w3.org/2000/svg\" height=\"24px\"viewBox=\"0 0 24 24\"\n",
              "     width=\"24px\">\n",
              "    <g>\n",
              "        <path d=\"M19 3H5c-1.1 0-2 .9-2 2v14c0 1.1.9 2 2 2h14c1.1 0 2-.9 2-2V5c0-1.1-.9-2-2-2zM9 17H7v-7h2v7zm4 0h-2V7h2v10zm4 0h-2v-4h2v4z\"/>\n",
              "    </g>\n",
              "</svg>\n",
              "  </button>\n",
              "\n",
              "<style>\n",
              "  .colab-df-quickchart {\n",
              "      --bg-color: #E8F0FE;\n",
              "      --fill-color: #1967D2;\n",
              "      --hover-bg-color: #E2EBFA;\n",
              "      --hover-fill-color: #174EA6;\n",
              "      --disabled-fill-color: #AAA;\n",
              "      --disabled-bg-color: #DDD;\n",
              "  }\n",
              "\n",
              "  [theme=dark] .colab-df-quickchart {\n",
              "      --bg-color: #3B4455;\n",
              "      --fill-color: #D2E3FC;\n",
              "      --hover-bg-color: #434B5C;\n",
              "      --hover-fill-color: #FFFFFF;\n",
              "      --disabled-bg-color: #3B4455;\n",
              "      --disabled-fill-color: #666;\n",
              "  }\n",
              "\n",
              "  .colab-df-quickchart {\n",
              "    background-color: var(--bg-color);\n",
              "    border: none;\n",
              "    border-radius: 50%;\n",
              "    cursor: pointer;\n",
              "    display: none;\n",
              "    fill: var(--fill-color);\n",
              "    height: 32px;\n",
              "    padding: 0;\n",
              "    width: 32px;\n",
              "  }\n",
              "\n",
              "  .colab-df-quickchart:hover {\n",
              "    background-color: var(--hover-bg-color);\n",
              "    box-shadow: 0 1px 2px rgba(60, 64, 67, 0.3), 0 1px 3px 1px rgba(60, 64, 67, 0.15);\n",
              "    fill: var(--button-hover-fill-color);\n",
              "  }\n",
              "\n",
              "  .colab-df-quickchart-complete:disabled,\n",
              "  .colab-df-quickchart-complete:disabled:hover {\n",
              "    background-color: var(--disabled-bg-color);\n",
              "    fill: var(--disabled-fill-color);\n",
              "    box-shadow: none;\n",
              "  }\n",
              "\n",
              "  .colab-df-spinner {\n",
              "    border: 2px solid var(--fill-color);\n",
              "    border-color: transparent;\n",
              "    border-bottom-color: var(--fill-color);\n",
              "    animation:\n",
              "      spin 1s steps(1) infinite;\n",
              "  }\n",
              "\n",
              "  @keyframes spin {\n",
              "    0% {\n",
              "      border-color: transparent;\n",
              "      border-bottom-color: var(--fill-color);\n",
              "      border-left-color: var(--fill-color);\n",
              "    }\n",
              "    20% {\n",
              "      border-color: transparent;\n",
              "      border-left-color: var(--fill-color);\n",
              "      border-top-color: var(--fill-color);\n",
              "    }\n",
              "    30% {\n",
              "      border-color: transparent;\n",
              "      border-left-color: var(--fill-color);\n",
              "      border-top-color: var(--fill-color);\n",
              "      border-right-color: var(--fill-color);\n",
              "    }\n",
              "    40% {\n",
              "      border-color: transparent;\n",
              "      border-right-color: var(--fill-color);\n",
              "      border-top-color: var(--fill-color);\n",
              "    }\n",
              "    60% {\n",
              "      border-color: transparent;\n",
              "      border-right-color: var(--fill-color);\n",
              "    }\n",
              "    80% {\n",
              "      border-color: transparent;\n",
              "      border-right-color: var(--fill-color);\n",
              "      border-bottom-color: var(--fill-color);\n",
              "    }\n",
              "    90% {\n",
              "      border-color: transparent;\n",
              "      border-bottom-color: var(--fill-color);\n",
              "    }\n",
              "  }\n",
              "</style>\n",
              "\n",
              "  <script>\n",
              "    async function quickchart(key) {\n",
              "      const quickchartButtonEl =\n",
              "        document.querySelector('#' + key + ' button');\n",
              "      quickchartButtonEl.disabled = true;  // To prevent multiple clicks.\n",
              "      quickchartButtonEl.classList.add('colab-df-spinner');\n",
              "      try {\n",
              "        const charts = await google.colab.kernel.invokeFunction(\n",
              "            'suggestCharts', [key], {});\n",
              "      } catch (error) {\n",
              "        console.error('Error during call to suggestCharts:', error);\n",
              "      }\n",
              "      quickchartButtonEl.classList.remove('colab-df-spinner');\n",
              "      quickchartButtonEl.classList.add('colab-df-quickchart-complete');\n",
              "    }\n",
              "    (() => {\n",
              "      let quickchartButtonEl =\n",
              "        document.querySelector('#df-3b67c56c-52ce-4fd7-95c7-b6dc4687bb5a button');\n",
              "      quickchartButtonEl.style.display =\n",
              "        google.colab.kernel.accessAllowed ? 'block' : 'none';\n",
              "    })();\n",
              "  </script>\n",
              "</div>\n",
              "\n",
              "    </div>\n",
              "  </div>\n"
            ],
            "application/vnd.google.colaboratory.intrinsic+json": {
              "type": "dataframe",
              "variable_name": "df",
              "summary": "{\n  \"name\": \"df\",\n  \"rows\": 6990,\n  \"fields\": [\n    {\n      \"column\": \"Unnamed: 0\",\n      \"properties\": {\n        \"dtype\": \"number\",\n        \"std\": 2017,\n        \"min\": 0,\n        \"max\": 6989,\n        \"num_unique_values\": 6990,\n        \"samples\": [\n          4981,\n          4865,\n          2934\n        ],\n        \"semantic_type\": \"\",\n        \"description\": \"\"\n      }\n    },\n    {\n      \"column\": \"text\",\n      \"properties\": {\n        \"dtype\": \"string\",\n        \"num_unique_values\": 4867,\n        \"samples\": [\n          \"\\u09ac\\u09bf\\u09aa\\u09bf\\u098f\\u09b2 \\u09ab\\u09be\\u0987\\u09a8\\u09be\\u09b2 \\u0986\\u099c, \\u09b2\\u09dc\\u09ac\\u09c7 \\u09ac\\u09b0\\u09bf\\u09b6\\u09be\\u09b2-\\u0995\\u09c1\\u09ae\\u09bf\\u09b2\\u09cd\\u09b2\\u09be\",\n          \"\\u09a1\\u09ae\\u09bf\\u0999\\u09cd\\u0997\\u09cb\\u0995\\u09c7 \\u09a8\\u09bf\\u09af\\u09bc\\u09c7 \\u0996\\u09c7\\u09b2\\u09cb\\u09af\\u09bc\\u09be\\u09a1\\u09bc\\u09a6\\u09c7\\u09b0 \\u0985\\u09ad\\u09bf\\u09af\\u09cb\\u0997 \\u0986\\u099b\\u09c7 : \\u09ae\\u09be\\u09b6\\u09b0\\u09be\\u09ab\\u09bf\",\n          \"\\u09b6\\u09cb\\u0995\\u09be\\u09ac\\u09b9 \\u0986\\u0997\\u09b8\\u09cd\\u099f\\u09c7\\u09b0 \\u09aa\\u09cd\\u09b0\\u09a5\\u09ae \\u09a6\\u09bf\\u09a8 \\u0986\\u099c\"\n        ],\n        \"semantic_type\": \"\",\n        \"description\": \"\"\n      }\n    },\n    {\n      \"column\": \"label\",\n      \"properties\": {\n        \"dtype\": \"number\",\n        \"std\": 1,\n        \"min\": 0,\n        \"max\": 5,\n        \"num_unique_values\": 6,\n        \"samples\": [\n          0,\n          1,\n          5\n        ],\n        \"semantic_type\": \"\",\n        \"description\": \"\"\n      }\n    }\n  ]\n}"
            }
          },
          "metadata": {},
          "execution_count": 6
        }
      ]
    },
    {
      "cell_type": "code",
      "source": [
        "df1"
      ],
      "metadata": {
        "colab": {
          "base_uri": "https://localhost:8080/",
          "height": 423
        },
        "id": "SNpf83wbh1x1",
        "outputId": "a240305f-eff0-49cd-9a8e-011a38abaf51"
      },
      "execution_count": null,
      "outputs": [
        {
          "output_type": "execute_result",
          "data": {
            "text/plain": [
              "      Unnamed: 0                                               text  label\n",
              "0              0  হান্টার বাইডেনের দোষ স্বীকার করে নেওয়ার চুক্তি...      0\n",
              "1              1  যুক্তরাষ্ট্রের নৌবাহিনীর প্রধান পদে প্রথম কোনো...      0\n",
              "2              2  মাত্র ২৪ ঘণ্টায় ইউক্রেনে যেভাবে শান্তি নিশ্চিত...      0\n",
              "3              3                              প্রিগোজিন এখন রাশিয়ায়      0\n",
              "4              4         আফ্রিকার ৬ দেশকে বিনামূল্যে গম দেবে রাশিয়া      0\n",
              "...          ...                                                ...    ...\n",
              "6985        6985  সংযুক্ত আরব আমিরাতের ‘গোল্ডেন ভিসা’ পেলেন অভিন...      4\n",
              "6986        6986                   অদম্য হীরা-মুক্তার জিপিএ-৫ অর্জন      4\n",
              "6987        6987  বাবার লাশ বাড়িতে রেখে পরীক্ষা দেওয়া লাবিবা জিপ...      4\n",
              "6988        6988      ৪১তম বিসিএসে পুলিশ ক্যাডারে প্রথম জাহিদ হাসান      4\n",
              "6989        6989  একটি গরু টাকায় রিকসাচালককে ঘরের টিন কিনে দেব :...      4\n",
              "\n",
              "[6990 rows x 3 columns]"
            ],
            "text/html": [
              "\n",
              "  <div id=\"df-6ef5718e-570a-41a8-900c-abb5338d6017\" class=\"colab-df-container\">\n",
              "    <div>\n",
              "<style scoped>\n",
              "    .dataframe tbody tr th:only-of-type {\n",
              "        vertical-align: middle;\n",
              "    }\n",
              "\n",
              "    .dataframe tbody tr th {\n",
              "        vertical-align: top;\n",
              "    }\n",
              "\n",
              "    .dataframe thead th {\n",
              "        text-align: right;\n",
              "    }\n",
              "</style>\n",
              "<table border=\"1\" class=\"dataframe\">\n",
              "  <thead>\n",
              "    <tr style=\"text-align: right;\">\n",
              "      <th></th>\n",
              "      <th>Unnamed: 0</th>\n",
              "      <th>text</th>\n",
              "      <th>label</th>\n",
              "    </tr>\n",
              "  </thead>\n",
              "  <tbody>\n",
              "    <tr>\n",
              "      <th>0</th>\n",
              "      <td>0</td>\n",
              "      <td>হান্টার বাইডেনের দোষ স্বীকার করে নেওয়ার চুক্তি...</td>\n",
              "      <td>0</td>\n",
              "    </tr>\n",
              "    <tr>\n",
              "      <th>1</th>\n",
              "      <td>1</td>\n",
              "      <td>যুক্তরাষ্ট্রের নৌবাহিনীর প্রধান পদে প্রথম কোনো...</td>\n",
              "      <td>0</td>\n",
              "    </tr>\n",
              "    <tr>\n",
              "      <th>2</th>\n",
              "      <td>2</td>\n",
              "      <td>মাত্র ২৪ ঘণ্টায় ইউক্রেনে যেভাবে শান্তি নিশ্চিত...</td>\n",
              "      <td>0</td>\n",
              "    </tr>\n",
              "    <tr>\n",
              "      <th>3</th>\n",
              "      <td>3</td>\n",
              "      <td>প্রিগোজিন এখন রাশিয়ায়</td>\n",
              "      <td>0</td>\n",
              "    </tr>\n",
              "    <tr>\n",
              "      <th>4</th>\n",
              "      <td>4</td>\n",
              "      <td>আফ্রিকার ৬ দেশকে বিনামূল্যে গম দেবে রাশিয়া</td>\n",
              "      <td>0</td>\n",
              "    </tr>\n",
              "    <tr>\n",
              "      <th>...</th>\n",
              "      <td>...</td>\n",
              "      <td>...</td>\n",
              "      <td>...</td>\n",
              "    </tr>\n",
              "    <tr>\n",
              "      <th>6985</th>\n",
              "      <td>6985</td>\n",
              "      <td>সংযুক্ত আরব আমিরাতের ‘গোল্ডেন ভিসা’ পেলেন অভিন...</td>\n",
              "      <td>4</td>\n",
              "    </tr>\n",
              "    <tr>\n",
              "      <th>6986</th>\n",
              "      <td>6986</td>\n",
              "      <td>অদম্য হীরা-মুক্তার জিপিএ-৫ অর্জন</td>\n",
              "      <td>4</td>\n",
              "    </tr>\n",
              "    <tr>\n",
              "      <th>6987</th>\n",
              "      <td>6987</td>\n",
              "      <td>বাবার লাশ বাড়িতে রেখে পরীক্ষা দেওয়া লাবিবা জিপ...</td>\n",
              "      <td>4</td>\n",
              "    </tr>\n",
              "    <tr>\n",
              "      <th>6988</th>\n",
              "      <td>6988</td>\n",
              "      <td>৪১তম বিসিএসে পুলিশ ক্যাডারে প্রথম জাহিদ হাসান</td>\n",
              "      <td>4</td>\n",
              "    </tr>\n",
              "    <tr>\n",
              "      <th>6989</th>\n",
              "      <td>6989</td>\n",
              "      <td>একটি গরু টাকায় রিকসাচালককে ঘরের টিন কিনে দেব :...</td>\n",
              "      <td>4</td>\n",
              "    </tr>\n",
              "  </tbody>\n",
              "</table>\n",
              "<p>6990 rows × 3 columns</p>\n",
              "</div>\n",
              "    <div class=\"colab-df-buttons\">\n",
              "\n",
              "  <div class=\"colab-df-container\">\n",
              "    <button class=\"colab-df-convert\" onclick=\"convertToInteractive('df-6ef5718e-570a-41a8-900c-abb5338d6017')\"\n",
              "            title=\"Convert this dataframe to an interactive table.\"\n",
              "            style=\"display:none;\">\n",
              "\n",
              "  <svg xmlns=\"http://www.w3.org/2000/svg\" height=\"24px\" viewBox=\"0 -960 960 960\">\n",
              "    <path d=\"M120-120v-720h720v720H120Zm60-500h600v-160H180v160Zm220 220h160v-160H400v160Zm0 220h160v-160H400v160ZM180-400h160v-160H180v160Zm440 0h160v-160H620v160ZM180-180h160v-160H180v160Zm440 0h160v-160H620v160Z\"/>\n",
              "  </svg>\n",
              "    </button>\n",
              "\n",
              "  <style>\n",
              "    .colab-df-container {\n",
              "      display:flex;\n",
              "      gap: 12px;\n",
              "    }\n",
              "\n",
              "    .colab-df-convert {\n",
              "      background-color: #E8F0FE;\n",
              "      border: none;\n",
              "      border-radius: 50%;\n",
              "      cursor: pointer;\n",
              "      display: none;\n",
              "      fill: #1967D2;\n",
              "      height: 32px;\n",
              "      padding: 0 0 0 0;\n",
              "      width: 32px;\n",
              "    }\n",
              "\n",
              "    .colab-df-convert:hover {\n",
              "      background-color: #E2EBFA;\n",
              "      box-shadow: 0px 1px 2px rgba(60, 64, 67, 0.3), 0px 1px 3px 1px rgba(60, 64, 67, 0.15);\n",
              "      fill: #174EA6;\n",
              "    }\n",
              "\n",
              "    .colab-df-buttons div {\n",
              "      margin-bottom: 4px;\n",
              "    }\n",
              "\n",
              "    [theme=dark] .colab-df-convert {\n",
              "      background-color: #3B4455;\n",
              "      fill: #D2E3FC;\n",
              "    }\n",
              "\n",
              "    [theme=dark] .colab-df-convert:hover {\n",
              "      background-color: #434B5C;\n",
              "      box-shadow: 0px 1px 3px 1px rgba(0, 0, 0, 0.15);\n",
              "      filter: drop-shadow(0px 1px 2px rgba(0, 0, 0, 0.3));\n",
              "      fill: #FFFFFF;\n",
              "    }\n",
              "  </style>\n",
              "\n",
              "    <script>\n",
              "      const buttonEl =\n",
              "        document.querySelector('#df-6ef5718e-570a-41a8-900c-abb5338d6017 button.colab-df-convert');\n",
              "      buttonEl.style.display =\n",
              "        google.colab.kernel.accessAllowed ? 'block' : 'none';\n",
              "\n",
              "      async function convertToInteractive(key) {\n",
              "        const element = document.querySelector('#df-6ef5718e-570a-41a8-900c-abb5338d6017');\n",
              "        const dataTable =\n",
              "          await google.colab.kernel.invokeFunction('convertToInteractive',\n",
              "                                                    [key], {});\n",
              "        if (!dataTable) return;\n",
              "\n",
              "        const docLinkHtml = 'Like what you see? Visit the ' +\n",
              "          '<a target=\"_blank\" href=https://colab.research.google.com/notebooks/data_table.ipynb>data table notebook</a>'\n",
              "          + ' to learn more about interactive tables.';\n",
              "        element.innerHTML = '';\n",
              "        dataTable['output_type'] = 'display_data';\n",
              "        await google.colab.output.renderOutput(dataTable, element);\n",
              "        const docLink = document.createElement('div');\n",
              "        docLink.innerHTML = docLinkHtml;\n",
              "        element.appendChild(docLink);\n",
              "      }\n",
              "    </script>\n",
              "  </div>\n",
              "\n",
              "\n",
              "<div id=\"df-6a66784e-3b70-4f15-aa4a-80596fec083d\">\n",
              "  <button class=\"colab-df-quickchart\" onclick=\"quickchart('df-6a66784e-3b70-4f15-aa4a-80596fec083d')\"\n",
              "            title=\"Suggest charts\"\n",
              "            style=\"display:none;\">\n",
              "\n",
              "<svg xmlns=\"http://www.w3.org/2000/svg\" height=\"24px\"viewBox=\"0 0 24 24\"\n",
              "     width=\"24px\">\n",
              "    <g>\n",
              "        <path d=\"M19 3H5c-1.1 0-2 .9-2 2v14c0 1.1.9 2 2 2h14c1.1 0 2-.9 2-2V5c0-1.1-.9-2-2-2zM9 17H7v-7h2v7zm4 0h-2V7h2v10zm4 0h-2v-4h2v4z\"/>\n",
              "    </g>\n",
              "</svg>\n",
              "  </button>\n",
              "\n",
              "<style>\n",
              "  .colab-df-quickchart {\n",
              "      --bg-color: #E8F0FE;\n",
              "      --fill-color: #1967D2;\n",
              "      --hover-bg-color: #E2EBFA;\n",
              "      --hover-fill-color: #174EA6;\n",
              "      --disabled-fill-color: #AAA;\n",
              "      --disabled-bg-color: #DDD;\n",
              "  }\n",
              "\n",
              "  [theme=dark] .colab-df-quickchart {\n",
              "      --bg-color: #3B4455;\n",
              "      --fill-color: #D2E3FC;\n",
              "      --hover-bg-color: #434B5C;\n",
              "      --hover-fill-color: #FFFFFF;\n",
              "      --disabled-bg-color: #3B4455;\n",
              "      --disabled-fill-color: #666;\n",
              "  }\n",
              "\n",
              "  .colab-df-quickchart {\n",
              "    background-color: var(--bg-color);\n",
              "    border: none;\n",
              "    border-radius: 50%;\n",
              "    cursor: pointer;\n",
              "    display: none;\n",
              "    fill: var(--fill-color);\n",
              "    height: 32px;\n",
              "    padding: 0;\n",
              "    width: 32px;\n",
              "  }\n",
              "\n",
              "  .colab-df-quickchart:hover {\n",
              "    background-color: var(--hover-bg-color);\n",
              "    box-shadow: 0 1px 2px rgba(60, 64, 67, 0.3), 0 1px 3px 1px rgba(60, 64, 67, 0.15);\n",
              "    fill: var(--button-hover-fill-color);\n",
              "  }\n",
              "\n",
              "  .colab-df-quickchart-complete:disabled,\n",
              "  .colab-df-quickchart-complete:disabled:hover {\n",
              "    background-color: var(--disabled-bg-color);\n",
              "    fill: var(--disabled-fill-color);\n",
              "    box-shadow: none;\n",
              "  }\n",
              "\n",
              "  .colab-df-spinner {\n",
              "    border: 2px solid var(--fill-color);\n",
              "    border-color: transparent;\n",
              "    border-bottom-color: var(--fill-color);\n",
              "    animation:\n",
              "      spin 1s steps(1) infinite;\n",
              "  }\n",
              "\n",
              "  @keyframes spin {\n",
              "    0% {\n",
              "      border-color: transparent;\n",
              "      border-bottom-color: var(--fill-color);\n",
              "      border-left-color: var(--fill-color);\n",
              "    }\n",
              "    20% {\n",
              "      border-color: transparent;\n",
              "      border-left-color: var(--fill-color);\n",
              "      border-top-color: var(--fill-color);\n",
              "    }\n",
              "    30% {\n",
              "      border-color: transparent;\n",
              "      border-left-color: var(--fill-color);\n",
              "      border-top-color: var(--fill-color);\n",
              "      border-right-color: var(--fill-color);\n",
              "    }\n",
              "    40% {\n",
              "      border-color: transparent;\n",
              "      border-right-color: var(--fill-color);\n",
              "      border-top-color: var(--fill-color);\n",
              "    }\n",
              "    60% {\n",
              "      border-color: transparent;\n",
              "      border-right-color: var(--fill-color);\n",
              "    }\n",
              "    80% {\n",
              "      border-color: transparent;\n",
              "      border-right-color: var(--fill-color);\n",
              "      border-bottom-color: var(--fill-color);\n",
              "    }\n",
              "    90% {\n",
              "      border-color: transparent;\n",
              "      border-bottom-color: var(--fill-color);\n",
              "    }\n",
              "  }\n",
              "</style>\n",
              "\n",
              "  <script>\n",
              "    async function quickchart(key) {\n",
              "      const quickchartButtonEl =\n",
              "        document.querySelector('#' + key + ' button');\n",
              "      quickchartButtonEl.disabled = true;  // To prevent multiple clicks.\n",
              "      quickchartButtonEl.classList.add('colab-df-spinner');\n",
              "      try {\n",
              "        const charts = await google.colab.kernel.invokeFunction(\n",
              "            'suggestCharts', [key], {});\n",
              "      } catch (error) {\n",
              "        console.error('Error during call to suggestCharts:', error);\n",
              "      }\n",
              "      quickchartButtonEl.classList.remove('colab-df-spinner');\n",
              "      quickchartButtonEl.classList.add('colab-df-quickchart-complete');\n",
              "    }\n",
              "    (() => {\n",
              "      let quickchartButtonEl =\n",
              "        document.querySelector('#df-6a66784e-3b70-4f15-aa4a-80596fec083d button');\n",
              "      quickchartButtonEl.style.display =\n",
              "        google.colab.kernel.accessAllowed ? 'block' : 'none';\n",
              "    })();\n",
              "  </script>\n",
              "</div>\n",
              "\n",
              "  <div id=\"id_1b734e2e-3309-48a2-bffa-c36a49974719\">\n",
              "    <style>\n",
              "      .colab-df-generate {\n",
              "        background-color: #E8F0FE;\n",
              "        border: none;\n",
              "        border-radius: 50%;\n",
              "        cursor: pointer;\n",
              "        display: none;\n",
              "        fill: #1967D2;\n",
              "        height: 32px;\n",
              "        padding: 0 0 0 0;\n",
              "        width: 32px;\n",
              "      }\n",
              "\n",
              "      .colab-df-generate:hover {\n",
              "        background-color: #E2EBFA;\n",
              "        box-shadow: 0px 1px 2px rgba(60, 64, 67, 0.3), 0px 1px 3px 1px rgba(60, 64, 67, 0.15);\n",
              "        fill: #174EA6;\n",
              "      }\n",
              "\n",
              "      [theme=dark] .colab-df-generate {\n",
              "        background-color: #3B4455;\n",
              "        fill: #D2E3FC;\n",
              "      }\n",
              "\n",
              "      [theme=dark] .colab-df-generate:hover {\n",
              "        background-color: #434B5C;\n",
              "        box-shadow: 0px 1px 3px 1px rgba(0, 0, 0, 0.15);\n",
              "        filter: drop-shadow(0px 1px 2px rgba(0, 0, 0, 0.3));\n",
              "        fill: #FFFFFF;\n",
              "      }\n",
              "    </style>\n",
              "    <button class=\"colab-df-generate\" onclick=\"generateWithVariable('df1')\"\n",
              "            title=\"Generate code using this dataframe.\"\n",
              "            style=\"display:none;\">\n",
              "\n",
              "  <svg xmlns=\"http://www.w3.org/2000/svg\" height=\"24px\"viewBox=\"0 0 24 24\"\n",
              "       width=\"24px\">\n",
              "    <path d=\"M7,19H8.4L18.45,9,17,7.55,7,17.6ZM5,21V16.75L18.45,3.32a2,2,0,0,1,2.83,0l1.4,1.43a1.91,1.91,0,0,1,.58,1.4,1.91,1.91,0,0,1-.58,1.4L9.25,21ZM18.45,9,17,7.55Zm-12,3A5.31,5.31,0,0,0,4.9,8.1,5.31,5.31,0,0,0,1,6.5,5.31,5.31,0,0,0,4.9,4.9,5.31,5.31,0,0,0,6.5,1,5.31,5.31,0,0,0,8.1,4.9,5.31,5.31,0,0,0,12,6.5,5.46,5.46,0,0,0,6.5,12Z\"/>\n",
              "  </svg>\n",
              "    </button>\n",
              "    <script>\n",
              "      (() => {\n",
              "      const buttonEl =\n",
              "        document.querySelector('#id_1b734e2e-3309-48a2-bffa-c36a49974719 button.colab-df-generate');\n",
              "      buttonEl.style.display =\n",
              "        google.colab.kernel.accessAllowed ? 'block' : 'none';\n",
              "\n",
              "      buttonEl.onclick = () => {\n",
              "        google.colab.notebook.generateWithVariable('df1');\n",
              "      }\n",
              "      })();\n",
              "    </script>\n",
              "  </div>\n",
              "\n",
              "    </div>\n",
              "  </div>\n"
            ],
            "application/vnd.google.colaboratory.intrinsic+json": {
              "type": "dataframe",
              "variable_name": "df1",
              "summary": "{\n  \"name\": \"df1\",\n  \"rows\": 6990,\n  \"fields\": [\n    {\n      \"column\": \"Unnamed: 0\",\n      \"properties\": {\n        \"dtype\": \"number\",\n        \"std\": 2017,\n        \"min\": 0,\n        \"max\": 6989,\n        \"num_unique_values\": 6990,\n        \"samples\": [\n          4981,\n          4865,\n          2934\n        ],\n        \"semantic_type\": \"\",\n        \"description\": \"\"\n      }\n    },\n    {\n      \"column\": \"text\",\n      \"properties\": {\n        \"dtype\": \"string\",\n        \"num_unique_values\": 4867,\n        \"samples\": [\n          \"\\u09ac\\u09bf\\u09aa\\u09bf\\u098f\\u09b2 \\u09ab\\u09be\\u0987\\u09a8\\u09be\\u09b2 \\u0986\\u099c, \\u09b2\\u09dc\\u09ac\\u09c7 \\u09ac\\u09b0\\u09bf\\u09b6\\u09be\\u09b2-\\u0995\\u09c1\\u09ae\\u09bf\\u09b2\\u09cd\\u09b2\\u09be\",\n          \"\\u09a1\\u09ae\\u09bf\\u0999\\u09cd\\u0997\\u09cb\\u0995\\u09c7 \\u09a8\\u09bf\\u09af\\u09bc\\u09c7 \\u0996\\u09c7\\u09b2\\u09cb\\u09af\\u09bc\\u09be\\u09a1\\u09bc\\u09a6\\u09c7\\u09b0 \\u0985\\u09ad\\u09bf\\u09af\\u09cb\\u0997 \\u0986\\u099b\\u09c7 : \\u09ae\\u09be\\u09b6\\u09b0\\u09be\\u09ab\\u09bf\",\n          \"\\u09b6\\u09cb\\u0995\\u09be\\u09ac\\u09b9 \\u0986\\u0997\\u09b8\\u09cd\\u099f\\u09c7\\u09b0 \\u09aa\\u09cd\\u09b0\\u09a5\\u09ae \\u09a6\\u09bf\\u09a8 \\u0986\\u099c\"\n        ],\n        \"semantic_type\": \"\",\n        \"description\": \"\"\n      }\n    },\n    {\n      \"column\": \"label\",\n      \"properties\": {\n        \"dtype\": \"number\",\n        \"std\": 1,\n        \"min\": 0,\n        \"max\": 5,\n        \"num_unique_values\": 6,\n        \"samples\": [\n          0,\n          1,\n          5\n        ],\n        \"semantic_type\": \"\",\n        \"description\": \"\"\n      }\n    }\n  ]\n}"
            }
          },
          "metadata": {},
          "execution_count": 7
        }
      ]
    },
    {
      "cell_type": "code",
      "source": [
        "df1.drop('Unnamed: 0', axis=1, inplace=True)"
      ],
      "metadata": {
        "id": "X_DV64WAh8e9"
      },
      "execution_count": null,
      "outputs": []
    },
    {
      "cell_type": "code",
      "source": [
        "df.drop('Unnamed: 0', axis=1, inplace=True)"
      ],
      "metadata": {
        "id": "mAIJ1Rjeh_K3"
      },
      "execution_count": null,
      "outputs": []
    },
    {
      "cell_type": "code",
      "source": [
        "df.columns"
      ],
      "metadata": {
        "colab": {
          "base_uri": "https://localhost:8080/"
        },
        "id": "o7EsaD51h_FF",
        "outputId": "a11cae0c-3085-4826-a8a3-879f0e693132"
      },
      "execution_count": null,
      "outputs": [
        {
          "output_type": "execute_result",
          "data": {
            "text/plain": [
              "Index(['text', 'label'], dtype='object')"
            ]
          },
          "metadata": {},
          "execution_count": 10
        }
      ]
    },
    {
      "cell_type": "code",
      "source": [
        "print(\"Size of the dataframe {}\\n\".format(df.shape))"
      ],
      "metadata": {
        "colab": {
          "base_uri": "https://localhost:8080/"
        },
        "id": "_0QHXCCdiFQg",
        "outputId": "3f4d44ec-649d-43b3-9c39-64b7e95ad609"
      },
      "execution_count": null,
      "outputs": [
        {
          "output_type": "stream",
          "name": "stdout",
          "text": [
            "Size of the dataframe (6990, 2)\n",
            "\n"
          ]
        }
      ]
    },
    {
      "cell_type": "code",
      "source": [
        "print(\"Datatypes of the features \\n{}\\n\".format(df.dtypes))"
      ],
      "metadata": {
        "colab": {
          "base_uri": "https://localhost:8080/"
        },
        "id": "RL7ae_p5iE-6",
        "outputId": "a6243462-3928-4d49-89d3-c7a79f1109d1"
      },
      "execution_count": null,
      "outputs": [
        {
          "output_type": "stream",
          "name": "stdout",
          "text": [
            "Datatypes of the features \n",
            "text     object\n",
            "label     int64\n",
            "dtype: object\n",
            "\n"
          ]
        }
      ]
    },
    {
      "cell_type": "code",
      "source": [
        "print(\"Value count of target column \\n{}\\n\".format(df[\"label\"].value_counts()))"
      ],
      "metadata": {
        "colab": {
          "base_uri": "https://localhost:8080/"
        },
        "id": "WfnNzLEniLRV",
        "outputId": "84b6b876-7f1a-4dc9-f7cd-d7bce3108e3b"
      },
      "execution_count": null,
      "outputs": [
        {
          "output_type": "stream",
          "name": "stdout",
          "text": [
            "Value count of target column \n",
            "0    1165\n",
            "1    1165\n",
            "2    1165\n",
            "3    1165\n",
            "4    1165\n",
            "5    1165\n",
            "Name: label, dtype: int64\n",
            "\n"
          ]
        }
      ]
    },
    {
      "cell_type": "code",
      "source": [
        "df.columns"
      ],
      "metadata": {
        "colab": {
          "base_uri": "https://localhost:8080/"
        },
        "id": "OOHeoAw7iLM-",
        "outputId": "67de6646-df74-43b3-b996-b354b6ea9fa5"
      },
      "execution_count": null,
      "outputs": [
        {
          "output_type": "execute_result",
          "data": {
            "text/plain": [
              "Index(['text', 'label'], dtype='object')"
            ]
          },
          "metadata": {},
          "execution_count": 14
        }
      ]
    },
    {
      "cell_type": "code",
      "source": [
        "lst = [1112, 1002, 949, 999, 884, 1165]"
      ],
      "metadata": {
        "id": "KQkjhrGciVgW"
      },
      "execution_count": null,
      "outputs": []
    },
    {
      "cell_type": "code",
      "source": [
        "txt = []\n",
        "lbl = []"
      ],
      "metadata": {
        "id": "7rofpMnMiVYz"
      },
      "execution_count": null,
      "outputs": []
    },
    {
      "cell_type": "code",
      "source": [
        "for i in range(0, 6110):\n",
        "  if lst[df[\"label\"][i]] < 1165:\n",
        "    txt.append(df[\"text\"][i])\n",
        "    lbl.append(df[\"label\"][i])\n",
        "    lst[df[\"label\"][i]] = lst[df[\"label\"][i]] + 1"
      ],
      "metadata": {
        "id": "eRaCQv3YiVTn"
      },
      "execution_count": null,
      "outputs": []
    },
    {
      "cell_type": "code",
      "source": [
        "print(len(txt))\n",
        "print(len(lbl))"
      ],
      "metadata": {
        "colab": {
          "base_uri": "https://localhost:8080/"
        },
        "id": "6MAzXJ43iVN7",
        "outputId": "12e5a682-703d-491c-9f70-9ac756f0e482"
      },
      "execution_count": null,
      "outputs": [
        {
          "output_type": "stream",
          "name": "stdout",
          "text": [
            "879\n",
            "879\n"
          ]
        }
      ]
    },
    {
      "cell_type": "code",
      "source": [
        "print(\"Null columns {}\".format(df[\"text\"].isnull().sum()))"
      ],
      "metadata": {
        "colab": {
          "base_uri": "https://localhost:8080/"
        },
        "id": "XymN6kb3ikXZ",
        "outputId": "8d69ad29-d46e-41fa-a17f-6ae42a398cdb"
      },
      "execution_count": null,
      "outputs": [
        {
          "output_type": "stream",
          "name": "stdout",
          "text": [
            "Null columns 0\n"
          ]
        }
      ]
    },
    {
      "cell_type": "code",
      "source": [
        "df = df.dropna(subset = \"text\")"
      ],
      "metadata": {
        "id": "86d0lKvMikaX"
      },
      "execution_count": null,
      "outputs": []
    },
    {
      "cell_type": "code",
      "source": [
        "# ploting the world length of the tweets\n",
        "\n",
        "word_length = [len(x) for x in df[\"text\"]]\n",
        "plt.plot(word_length)"
      ],
      "metadata": {
        "colab": {
          "base_uri": "https://localhost:8080/",
          "height": 447
        },
        "id": "hcY5G6TCikde",
        "outputId": "e731a3ce-7f12-484f-f109-fa6727562387"
      },
      "execution_count": null,
      "outputs": [
        {
          "output_type": "execute_result",
          "data": {
            "text/plain": [
              "[<matplotlib.lines.Line2D at 0x7a623d3faf50>]"
            ]
          },
          "metadata": {},
          "execution_count": 21
        },
        {
          "output_type": "display_data",
          "data": {
            "text/plain": [
              "<Figure size 640x480 with 1 Axes>"
            ],
            "image/png": "[encoded data removed]"
          },
          "metadata": {}
        }
      ]
    },
    {
      "cell_type": "code",
      "source": [
        "# converting sentence to string\n",
        "\n",
        "df[\"text\"] = df[\"text\"].astype(str)"
      ],
      "metadata": {
        "id": "mLI5rfaQikg1"
      },
      "execution_count": null,
      "outputs": []
    },
    {
      "cell_type": "code",
      "source": [
        "# Types of products\n",
        "df['label'].value_counts()"
      ],
      "metadata": {
        "colab": {
          "base_uri": "https://localhost:8080/"
        },
        "id": "xXnWCMQ8ikjD",
        "outputId": "6291ace7-ec6c-48c7-d7e2-130eb1ba9708"
      },
      "execution_count": null,
      "outputs": [
        {
          "output_type": "execute_result",
          "data": {
            "text/plain": [
              "0    1165\n",
              "1    1165\n",
              "2    1165\n",
              "3    1165\n",
              "4    1165\n",
              "5    1165\n",
              "Name: label, dtype: int64"
            ]
          },
          "metadata": {},
          "execution_count": 23
        }
      ]
    },
    {
      "cell_type": "code",
      "source": [
        "df.columns"
      ],
      "metadata": {
        "colab": {
          "base_uri": "https://localhost:8080/"
        },
        "id": "ZjICfXcRiklZ",
        "outputId": "2fb19875-ceda-4da9-fcb9-c9e25eb15f7e"
      },
      "execution_count": null,
      "outputs": [
        {
          "output_type": "execute_result",
          "data": {
            "text/plain": [
              "Index(['text', 'label'], dtype='object')"
            ]
          },
          "metadata": {},
          "execution_count": 24
        }
      ]
    },
    {
      "cell_type": "code",
      "source": [
        "#df.to_csv(\"/content/drive/MyDrive/Text Sensitivity/text_sensitivity_final.csv\", index = False)"
      ],
      "metadata": {
        "id": "KU5XxwTdQJB_"
      },
      "execution_count": null,
      "outputs": []
    },
    {
      "cell_type": "code",
      "source": [
        "#df"
      ],
      "metadata": {
        "id": "hfGj8LwtTQ6x"
      },
      "execution_count": null,
      "outputs": []
    },
    {
      "cell_type": "code",
      "source": [
        "df.groupby(\"label\").count().plot(kind = \"bar\")\n",
        "plt.show()"
      ],
      "metadata": {
        "colab": {
          "base_uri": "https://localhost:8080/",
          "height": 444
        },
        "id": "MJCjSRNwgKnV",
        "outputId": "b36f0f2b-3f18-41ce-c80a-64d154b77787"
      },
      "execution_count": null,
      "outputs": [
        {
          "output_type": "display_data",
          "data": {
            "text/plain": [
              "<Figure size 640x480 with 1 Axes>"
            ],
            "image/png": "[encoded data removed]"
          },
          "metadata": {}
        }
      ]
    },
    {
      "cell_type": "code",
      "source": [
        "from sklearn.model_selection import train_test_split\n",
        "\n",
        "train_data, test_data = train_test_split(df, test_size = 0.2)\n",
        "test_data, test_data_2 = train_test_split(test_data, test_size = 0.4)\n",
        "\n",
        "# the code is splitting a DataFrame into three parts: train_data for training, test_data for initial testing, and test_data_2 for further testing.After the first split, a further split is performed on the test_data obtained from the first split."
      ],
      "metadata": {
        "id": "7xQ9ymtLgPum"
      },
      "execution_count": null,
      "outputs": []
    },
    {
      "cell_type": "code",
      "source": [
        "# Importing NLTK Libraries\n",
        "import nltk\n",
        "from nltk.corpus import stopwords\n",
        "from nltk import *"
      ],
      "metadata": {
        "id": "qQQg5yZ2gZ59"
      },
      "execution_count": null,
      "outputs": []
    },
    {
      "cell_type": "code",
      "source": [
        "stop_words = [\"অতএব\",\"অথচ\",\"অথবা\",\"অনুযায়ী\",\"অনেক\",\"অনেকে\",\"অনেকেই\",\"অন্তত\",\"অন্য\",\"অবধি\",\"অবশ্য\",\"অর্থাত\",\"আই\",\"আগামী\",\"আগে\",\"আগেই\",\"আছে\",\"আজ\",\"আদ্যভাগে\",\"আপনার\",\"আপনি\",\"আবার\",\"আমরা\",\"আমাকে\",\"আমাদের\",\"আমার\",\"আমি\",\"আর\",\"আরও\",\"ই\",\"ইত্যাদি\",\"ইহা\",\"উচিত\",\"উত্তর\",\"উনি\",\"উপর\",\"উপরে\",\"এ\",\"এঁদের\",\"এঁরা\",\"এই\",\"একই\",\"একটি\",\"একবার\",\"একে\",\"এক্\",\"এখন\",\"এখনও\",\"এখানে\",\"এখানেই\",\"এটা\",\"এটাই\",\"এটি\",\"এত\",\"এতটাই\",\"এতে\",\"এদের\",\"এব\",\"এবং\",\"এবার\",\"এমন\",\"এমনকী\",\"এমনি\",\"এর\",\"এরা\",\"এল\",\"এস\",\"এসে\",\"ঐ\",\"ও\",\"ওঁদের\",\"ওঁর\",\"ওঁরা\",\"ওই\",\"ওকে\",\"ওখানে\",\"ওদের\",\"ওর\",\"ওরা\",\"কখনও\",\"কত\",\"কবে\",\"কমনে\",\"কয়েক\",\"কয়েকটি\",\"করছে\",\"করছেন\",\"করতে\",\"করবে\",\"করবেন\",\"করলে\",\"করলেন\",\"করা\",\"করাই\",\"করায়\",\"করার\",\"করি\",\"করিতে\",\"করিয়া\",\"করিয়ে\",\"করে\",\"করেই\",\"করেছিলেন\",\"করেছে\",\"করেছেন\",\"করেন\",\"কাউকে\",\"কাছ\",\"কাছে\",\"কাজ\",\"কাজে\",\"কারও\",\"কারণ\",\"কি\",\"কিংবা\",\"কিছু\",\"কিছুই\",\"কিন্তু\",\"কী\",\"কে\",\"কেউ\",\"কেউই\",\"কেখা\",\"কেন\",\"কোটি\",\"কোন\",\"কোনও\",\"কোনো\",\"ক্ষেত্রে\",\"কয়েক\",\"খুব\",\"গিয়ে\",\"গিয়েছে\",\"গিয়ে\",\"গুলি\",\"গেছে\",\"গেল\",\"গেলে\",\"গোটা\",\"চলে\",\"চান\",\"চায়\",\"চার\",\"চালু\",\"চেয়ে\",\"চেষ্টা\",\"ছাড়া\",\"ছাড়াও\",\"ছিল\",\"ছিলেন\",\"জন\",\"জনকে\",\"জনের\",\"জন্য\",\"জন্যওজে\",\"জানতে\",\"জানা\",\"জানানো\",\"জানায়\",\"জানিয়ে\",\"জানিয়েছে\",\"জে\",\"জ্নজন\",\"টি\",\"ঠিক\",\"তখন\",\"তত\",\"তথা\",\"তবু\",\"তবে\",\"তা\",\"তাঁকে\",\"তাঁদের\",\"তাঁর\",\"তাঁরা\",\"তাঁাহারা\",\"তাই\",\"তাও\",\"তাকে\",\"তাতে\",\"তাদের\",\"তার\",\"তারপর\",\"তারা\",\"তারৈ\",\"তাহলে\",\"তাহা\",\"তাহাতে\",\"তাহার\",\"তিনঐ\",\"তিনি\",\"তিনিও\",\"তুমি\",\"তুলে\",\"তেমন\",\"তো\",\"তোমার\",\"থাকবে\",\"থাকবেন\",\"থাকা\",\"থাকায়\",\"থাকে\",\"থাকেন\",\"থেকে\",\"থেকেই\",\"থেকেও\",\"দিকে\",\"দিতে\",\"দিন\",\"দিয়ে\",\"দিয়েছে\",\"দিয়েছেন\",\"দিলেন\",\"দু\",\"দুই\",\"দুটি\",\"দুটো\",\"দেওয়া\",\"দেওয়ার\",\"দেওয়া\",\"দেখতে\",\"দেখা\",\"দেখে\",\"দেন\",\"দেয়\",\"দ্বারা\",\"ধরা\",\"ধরে\",\"ধামার\",\"নতুন\",\"নয়\",\"না\",\"নাই\",\"নাকি\",\"নাগাদ\",\"নানা\",\"নিজে\",\"নিজেই\",\"নিজেদের\",\"নিজের\",\"নিতে\",\"নিয়ে\",\"নিয়ে\",\"নেই\",\"নেওয়া\",\"নেওয়ার\",\"নেওয়া\",\"নয়\",\"পক্ষে\",\"পর\",\"পরে\",\"পরেই\",\"পরেও\",\"পর্যন্ত\",\"পাওয়া\",\"পাচ\",\"পারি\",\"পারে\",\"পারেন\",\"পি\",\"পেয়ে\",\"পেয়্র্\",\"প্রতি\",\"প্রথম\",\"প্রভৃতি\",\"প্রযন্ত\",\"প্রাথমিক\",\"প্রায়\",\"প্রায়\",\"ফলে\",\"ফিরে\",\"ফের\",\"বক্তব্য\",\"বদলে\",\"বন\",\"বরং\",\"বলতে\",\"বলল\",\"বললেন\",\"বলা\",\"বলে\",\"বলেছেন\",\"বলেন\",\"বসে\",\"বহু\",\"বা\",\"বাদে\",\"বার\",\"বি\",\"বিনা\",\"বিভিন্ন\",\"বিশেষ\",\"বিষয়টি\",\"বেশ\",\"বেশি\",\"ব্যবহার\",\"ব্যাপারে\",\"ভাবে\",\"ভাবেই\",\"মতো\",\"মতোই\",\"মধ্যভাগে\",\"মধ্যে\",\"মধ্যেই\",\"মধ্যেও\",\"মনে\",\"মাত্র\",\"মাধ্যমে\",\"মোট\",\"মোটেই\",\"যখন\",\"যত\",\"যতটা\",\"যথেষ্ট\",\"যদি\",\"যদিও\",\"যা\",\"যাঁর\",\"যাঁরা\",\"যাওয়া\",\"যাওয়ার\",\"যাওয়া\",\"যাকে\",\"যাচ্ছে\",\"যাতে\",\"যাদের\",\"যান\",\"যাবে\",\"যায়\",\"যার\",\"যারা\",\"যিনি\",\"যে\",\"যেখানে\",\"যেতে\",\"যেন\",\"যেমন\",\"র\",\"রকম\",\"রয়েছে\",\"রাখা\",\"রেখে\",\"লক্ষ\",\"শুধু\",\"শুরু\",\"সঙ্গে\",\"সঙ্গেও\",\"সব\",\"সবার\",\"সমস্ত\",\"সম্প্রতি\",\"সহ\",\"সহিত\",\"সাধারণ\",\"সামনে\",\"সি\",\"সুতরাং\",\"সে\",\"সেই\",\"সেখান\",\"সেখানে\",\"সেটা\",\"সেটাই\",\"সেটাও\",\"সেটি\",\"স্পষ্ট\",\"স্বয়ং\",\"হইতে\",\"হইবে\",\"হইয়া\",\"হওয়া\",\"হওয়ায়\",\"হওয়ার\",\"হচ্ছে\",\"হত\",\"হতে\",\"হতেই\",\"হন\",\"হবে\",\"হবেন\",\"হয়\",\"হয়তো\",\"হয়নি\",\"হয়ে\",\"হয়েই\",\"হয়েছিল\",\"হয়েছে\",\"হয়েছেন\",\"হল\",\"হলে\",\"হলেই\",\"হলেও\",\"হলো\",\"হাজার\",\"হিসাবে\",\"হৈলে\",\"হোক\",\"হয়\"]"
      ],
      "metadata": {
        "id": "NgF4e8mBgs4S"
      },
      "execution_count": null,
      "outputs": []
    },
    {
      "cell_type": "code",
      "source": [
        "import re\n",
        "import nltk\n",
        "nltk.download('punkt')\n",
        "def preprocess(string):\n",
        "  # punctuation marks\n",
        "  punctuations = '''!()-[]{};:'\"।\\,<>./?@#$%^&*_~='''\n",
        "\n",
        "  # traverse the given str and if any punctuation\n",
        "  # marks occur replace it with null\n",
        "  str1 = str(string)\n",
        "  for x in str1.lower():\n",
        "      if x in punctuations:\n",
        "          str1 = str1.replace(x, \"\")\n",
        "      if x >='a' and x <= 'z':\n",
        "        str1 = str1.replace(x, \"\")\n",
        "      if x >='A' and x <= 'Z':\n",
        "        str1 = str1.replace(x, \"\")\n",
        "      if(x =='।'):\n",
        "        str1 = str1.replace(x, \"\")\n",
        "  wordToken = word_tokenize(str1)\n",
        "  removeDuplicate = list(dict.fromkeys(wordToken))\n",
        "  return removeDuplicate\n",
        "Corpus = []\n",
        "for lines in df1[\"text\"]:\n",
        "  Result = preprocess(lines)\n",
        "  Corpus.append(Result)"
      ],
      "metadata": {
        "colab": {
          "base_uri": "https://localhost:8080/"
        },
        "id": "12tI-JutZ7sb",
        "outputId": "7fc32dcc-55c1-420c-dae8-24d51fb1c432"
      },
      "execution_count": null,
      "outputs": [
        {
          "output_type": "stream",
          "name": "stderr",
          "text": [
            "[nltk_data] Downloading package punkt to /root/nltk_data...\n",
            "[nltk_data]   Package punkt is already up-to-date!\n"
          ]
        }
      ]
    },
    {
      "cell_type": "code",
      "source": [
        "import gensim\n",
        "DIM = 32\n",
        "\n",
        "X = Corpus\n",
        "w2v_model = gensim.models.FastText(sentences = X, vector_size = DIM, window = 10, min_count = 1, sg = 0)"
      ],
      "metadata": {
        "id": "Hxl0py-dbdNY"
      },
      "execution_count": null,
      "outputs": []
    },
    {
      "cell_type": "code",
      "source": [
        "# Declaring function for text preprocessing\n",
        "\n",
        "def preprocess_text(main_df):\n",
        "  df_1 = main_df.copy()\n",
        "\n",
        "  # remove stopwords\n",
        "  nltk.download('stopwords')         # Downloading stopwords\n",
        "  stop = stopwords.words('bengali')\n",
        "  df_1['text'] = df_1['text'].apply(lambda x: \" \".join(x for x in x.split() if x not in stop_words))\n",
        "\n",
        "  # remove punctuations and convert to lower case\n",
        "  df_1['text'] = df_1['text'].apply(lambda x: re.sub('[!@#$:).;,?&]', '', x.lower()))\n",
        "\n",
        "  # remove double spaces\n",
        "  df_1['text'] = df_1['text'].apply(lambda x: re.sub(' ', ' ', x))\n",
        "\n",
        "  return df_1"
      ],
      "metadata": {
        "id": "9XN2rrAthYvg"
      },
      "execution_count": null,
      "outputs": []
    },
    {
      "cell_type": "code",
      "source": [
        "# Preprocessing training and test data\n",
        "train_data = preprocess_text(train_data)\n",
        "test_data = preprocess_text(test_data)\n",
        "test_data_2 = preprocess_text(test_data_2)"
      ],
      "metadata": {
        "colab": {
          "base_uri": "https://localhost:8080/"
        },
        "id": "jvQiCV8_h5fi",
        "outputId": "f39c687f-dda2-4323-cb25-5f5fc76c4c8b"
      },
      "execution_count": null,
      "outputs": [
        {
          "output_type": "stream",
          "name": "stderr",
          "text": [
            "[nltk_data] Downloading package stopwords to /root/nltk_data...\n",
            "[nltk_data]   Package stopwords is already up-to-date!\n",
            "[nltk_data] Downloading package stopwords to /root/nltk_data...\n",
            "[nltk_data]   Package stopwords is already up-to-date!\n",
            "[nltk_data] Downloading package stopwords to /root/nltk_data...\n",
            "[nltk_data]   Package stopwords is already up-to-date!\n"
          ]
        }
      ]
    },
    {
      "cell_type": "code",
      "source": [
        "# Verifying text preprocessing\n",
        "train_data['text'].head()"
      ],
      "metadata": {
        "id": "HSJ8BkIAiGPf",
        "outputId": "cbde5a0f-3f04-4fab-e2e3-c5f521f8853d",
        "colab": {
          "base_uri": "https://localhost:8080/"
        }
      },
      "execution_count": null,
      "outputs": [
        {
          "output_type": "execute_result",
          "data": {
            "text/plain": [
              "3309     মাদক কারবারিদের ধরতে হাতাহাতি ২ র‌্যাব সদস্য আহত\n",
              "2992    যাচ্ছি নেটওয়ার্কের বাইরে স্ট্যাটাস দিয়ে তরুণের...\n",
              "3176                 নেতিবাচক প্রভাব পড়ছে পুরো অর্থনীতিতে\n",
              "2283      বাংলাদেশ সেনাবাহিনীর শুটিং প্রতিযোগিতা অনুষ্ঠিত\n",
              "2169                            কাল ফেডারেশন কাপের ফাইনাল\n",
              "Name: text, dtype: object"
            ]
          },
          "metadata": {},
          "execution_count": 69
        }
      ]
    },
    {
      "cell_type": "code",
      "source": [
        "# Declaring train labels\n",
        "train_labels = train_data['label']\n",
        "test_labels = test_data['label']\n",
        "test_labels_2 = test_data_2['label']"
      ],
      "metadata": {
        "id": "fb7HKugrJelS"
      },
      "execution_count": null,
      "outputs": []
    },
    {
      "cell_type": "code",
      "source": [
        "# Converting labels to numerical features\n",
        "import numpy as np\n",
        "from sklearn.preprocessing import LabelEncoder\n",
        "\n",
        "le = LabelEncoder()\n",
        "le.fit(train_labels)\n",
        "train_labels = le.transform(train_labels)\n",
        "test_labels = le.transform(test_labels)\n",
        "test_labels_2 = le.transform(test_labels_2)\n",
        "\n",
        "print(le.classes_)\n",
        "print(np.unique(train_labels, return_counts=True))\n",
        "print(np.unique(test_labels, return_counts=True))\n",
        "print(np.unique(test_labels_2, return_counts=True))"
      ],
      "metadata": {
        "id": "OyhhZ4ExMr5V",
        "colab": {
          "base_uri": "https://localhost:8080/"
        },
        "outputId": "8f9c52e8-0c15-46c2-cc23-4e6d9e7cef82"
      },
      "execution_count": null,
      "outputs": [
        {
          "output_type": "stream",
          "name": "stdout",
          "text": [
            "[0 1 2 3 4 5]\n",
            "(array([0, 1, 2, 3, 4, 5]), array([911, 930, 961, 927, 946, 917]))\n",
            "(array([0, 1, 2, 3, 4, 5]), array([150, 143, 122, 140, 137, 146]))\n",
            "(array([0, 1, 2, 3, 4, 5]), array([104,  92,  82,  98,  82, 102]))\n"
          ]
        }
      ]
    },
    {
      "cell_type": "code",
      "source": [
        "train_labels"
      ],
      "metadata": {
        "colab": {
          "base_uri": "https://localhost:8080/"
        },
        "id": "sU77yLlOqIhe",
        "outputId": "4614a6e5-3f81-448f-b35a-0f93e3c4499f"
      },
      "execution_count": null,
      "outputs": [
        {
          "output_type": "execute_result",
          "data": {
            "text/plain": [
              "array([3, 3, 3, ..., 2, 0, 0])"
            ]
          },
          "metadata": {},
          "execution_count": 72
        }
      ]
    },
    {
      "cell_type": "code",
      "source": [
        "# Changing labels to categorical features\n",
        "import numpy as np\n",
        "from tensorflow.python.keras.utils import np_utils\n",
        "from tensorflow.keras.utils import to_categorical\n",
        "import numpy as np\n",
        "\n",
        "train_labels = to_categorical(np.asarray(train_labels))\n",
        "test_labels = to_categorical(np.array(test_labels))\n",
        "test_labels_2 = to_categorical(np.array(test_labels_2))"
      ],
      "metadata": {
        "id": "19sTizNjNTIb"
      },
      "execution_count": null,
      "outputs": []
    },
    {
      "cell_type": "code",
      "source": [
        "train_labels"
      ],
      "metadata": {
        "colab": {
          "base_uri": "https://localhost:8080/"
        },
        "id": "NI8TKtbIqMSO",
        "outputId": "31bb9b5d-1fb9-488a-b135-8f200de11918"
      },
      "execution_count": null,
      "outputs": [
        {
          "output_type": "execute_result",
          "data": {
            "text/plain": [
              "array([[0., 0., 0., 1., 0., 0.],\n",
              "       [0., 0., 0., 1., 0., 0.],\n",
              "       [0., 0., 0., 1., 0., 0.],\n",
              "       ...,\n",
              "       [0., 0., 1., 0., 0., 0.],\n",
              "       [1., 0., 0., 0., 0., 0.],\n",
              "       [1., 0., 0., 0., 0., 0.]], dtype=float32)"
            ]
          },
          "metadata": {},
          "execution_count": 74
        }
      ]
    },
    {
      "cell_type": "code",
      "source": [
        "from tensorflow.keras.preprocessing.text import Tokenizer\n",
        "\n",
        "# Defining training parameters\n",
        "max_sequence_length = 170\n",
        "max_words = 2500\n",
        "\n",
        "# Tokenizing tweets/sentences wrt num_words\n",
        "tokenizer = Tokenizer(num_words = max_words)  # Selects most frequent words\n",
        "tokenizer.fit_on_texts(train_data.text)      # Develops internal vocab based on training text\n",
        "train_sequences = tokenizer.texts_to_sequences(train_data.text)  # converts text to sequence\n",
        "\n",
        "test_sequences = tokenizer.texts_to_sequences(test_data.text)\n",
        "test_sequences_2 = tokenizer.texts_to_sequences(test_data_2.text)"
      ],
      "metadata": {
        "id": "BHpRh5kIPoSV"
      },
      "execution_count": null,
      "outputs": []
    },
    {
      "cell_type": "code",
      "source": [
        "vocab_size = len(tokenizer.word_index) + 1\n",
        "vocab = tokenizer.word_index"
      ],
      "metadata": {
        "id": "f8pnC_d3CrrJ"
      },
      "execution_count": null,
      "outputs": []
    },
    {
      "cell_type": "code",
      "source": [
        "def get_weights_matrix(model) :\n",
        "    weights_matrix = np.zeros((vocab_size, DIM))\n",
        "\n",
        "    for word, i in vocab.items() :\n",
        "      try:\n",
        "        weights_matrix[i] = model.wv[word]\n",
        "      except:\n",
        "        pass\n",
        "    return weights_matrix\n",
        "\n",
        "\n",
        "embedding_vectors = get_weights_matrix(w2v_model)"
      ],
      "metadata": {
        "id": "A-vdpFS1C1o9"
      },
      "execution_count": null,
      "outputs": []
    },
    {
      "cell_type": "code",
      "source": [
        "# Fixing the sequence length\n",
        "from tensorflow.keras.preprocessing.sequence import pad_sequences\n",
        "train_data = pad_sequences(train_sequences, maxlen = max_sequence_length)\n",
        "test_data = pad_sequences(test_sequences, maxlen = max_sequence_length)\n",
        "test_data_2= pad_sequences(test_sequences_2, maxlen = max_sequence_length)\n",
        "train_data.shape, test_data.shape"
      ],
      "metadata": {
        "colab": {
          "base_uri": "https://localhost:8080/"
        },
        "id": "jETjrBiLQG0j",
        "outputId": "69ed685f-8807-48a8-a8ea-6d54a5dd6fdd"
      },
      "execution_count": null,
      "outputs": [
        {
          "output_type": "execute_result",
          "data": {
            "text/plain": [
              "((5592, 170), (838, 170))"
            ]
          },
          "metadata": {},
          "execution_count": 78
        }
      ]
    },
    {
      "cell_type": "code",
      "source": [
        "# Importing Libraries\n",
        "\n",
        "import tensorflow as tf\n",
        "import sys, os, re, csv, codecs, numpy as np, pandas as pd\n",
        "from tensorflow.keras.layers import Dense, Input, LSTM, Embedding, Dropout, Activation\n",
        "from tensorflow.keras.layers import Bidirectional, GlobalMaxPool1D, Conv1D, SimpleRNN\n",
        "from tensorflow.keras.models import Model\n",
        "from tensorflow.keras.models import Sequential\n",
        "from tensorflow.keras import initializers, regularizers, constraints, optimizers, layers\n",
        "from tensorflow.keras.layers import Dense, Input, Input, Flatten, Dropout, BatchNormalization\n",
        "from tensorflow.keras.layers import Conv1D, MaxPooling1D, Embedding"
      ],
      "metadata": {
        "id": "YVGBq62yqKJP"
      },
      "execution_count": null,
      "outputs": []
    },
    {
      "cell_type": "code",
      "source": [
        "embedding_dim = 32\n",
        "\n",
        "# Model Training\n",
        "model = Sequential()\n",
        "model.add(Embedding(vocab_size, output_dim = DIM, weights = [embedding_vectors], input_length =max_sequence_length))\n",
        "\n",
        "# Bidirectional LSTM\n",
        "model.add(Bidirectional(LSTM(64, return_sequences=True, dropout=0.4, recurrent_dropout=0)))\n",
        "\n",
        "model.add(GlobalMaxPool1D())\n",
        "# model.add(Dense(32, activation='relu'))\n",
        "# model.add(Dropout(0.2))\n",
        "# model.add(Dense(32, activation='relu'))\n",
        "# model.add(Dropout(0.2))\n",
        "\n",
        "model.add(Dense(6,activation='softmax'))\n",
        "\n",
        "model.summary()"
      ],
      "metadata": {
        "colab": {
          "base_uri": "https://localhost:8080/"
        },
        "id": "P3cC-p-eqNgS",
        "outputId": "6ebfc6d4-49b8-4c86-9f1e-c036a4f60c5b"
      },
      "execution_count": null,
      "outputs": [
        {
          "output_type": "stream",
          "name": "stdout",
          "text": [
            "Model: \"sequential_1\"\n",
            "_________________________________________________________________\n",
            " Layer (type)                Output Shape              Param #   \n",
            "=================================================================\n",
            " embedding_1 (Embedding)     (None, 170, 32)           307552    \n",
            "                                                                 \n",
            " bidirectional_1 (Bidirecti  (None, 170, 128)          49664     \n",
            " onal)                                                           \n",
            "                                                                 \n",
            " global_max_pooling1d_1 (Gl  (None, 128)               0         \n",
            " obalMaxPooling1D)                                               \n",
            "                                                                 \n",
            " dense_1 (Dense)             (None, 6)                 774       \n",
            "                                                                 \n",
            "=================================================================\n",
            "Total params: 357990 (1.37 MB)\n",
            "Trainable params: 357990 (1.37 MB)\n",
            "Non-trainable params: 0 (0.00 Byte)\n",
            "_________________________________________________________________\n"
          ]
        }
      ]
    },
    {
      "cell_type": "code",
      "source": [
        "model.compile(loss = 'categorical_crossentropy', optimizer='Adam', metrics = ['accuracy'])\n",
        "#RMSProp - 72\n",
        "# Adam - 75"
      ],
      "metadata": {
        "id": "Lct5v_pnqVLw"
      },
      "execution_count": null,
      "outputs": []
    },
    {
      "cell_type": "code",
      "source": [
        "# declaring weights of product categories\n",
        "class_weight = {0: 5,\n",
        "                1: 5,\n",
        "                2: 4,\n",
        "                3: 4,\n",
        "                4: 4,\n",
        "                5: 5,\n",
        "                }\n",
        "\n",
        "# training and validating model\n",
        "history = model.fit(train_data, train_labels, batch_size=8, epochs= 40, class_weight = class_weight, validation_data=(test_data, test_labels)) # best 89(now) or 48 or 60 epochs # default epochs = 23 # batch_size changed to 1 (takes 2.30hrs) from 16"
      ],
      "metadata": {
        "colab": {
          "base_uri": "https://localhost:8080/"
        },
        "id": "rWSKHoYPqyGU",
        "outputId": "7147f46d-6e2e-40ca-8cba-47ba0b5799e7"
      },
      "execution_count": null,
      "outputs": [
        {
          "output_type": "stream",
          "name": "stdout",
          "text": [
            "Epoch 1/40\n",
            "699/699 [==============================] - 90s 118ms/step - loss: 7.9271 - accuracy: 0.2053 - val_loss: 1.6318 - val_accuracy: 0.3138\n",
            "Epoch 2/40\n",
            "699/699 [==============================] - 72s 103ms/step - loss: 5.9779 - accuracy: 0.4567 - val_loss: 1.0416 - val_accuracy: 0.6122\n",
            "Epoch 3/40\n",
            "699/699 [==============================] - 72s 103ms/step - loss: 4.0507 - accuracy: 0.6749 - val_loss: 0.9927 - val_accuracy: 0.6492\n",
            "Epoch 4/40\n",
            "699/699 [==============================] - 72s 103ms/step - loss: 3.1700 - accuracy: 0.7418 - val_loss: 0.8602 - val_accuracy: 0.6957\n",
            "Epoch 5/40\n",
            "699/699 [==============================] - 73s 104ms/step - loss: 2.7152 - accuracy: 0.7893 - val_loss: 0.8557 - val_accuracy: 0.7088\n",
            "Epoch 6/40\n",
            "699/699 [==============================] - 72s 103ms/step - loss: 2.4569 - accuracy: 0.8003 - val_loss: 0.8777 - val_accuracy: 0.6981\n",
            "Epoch 7/40\n",
            "699/699 [==============================] - 73s 104ms/step - loss: 2.1601 - accuracy: 0.8265 - val_loss: 0.8881 - val_accuracy: 0.7064\n",
            "Epoch 8/40\n",
            "699/699 [==============================] - 73s 104ms/step - loss: 1.8968 - accuracy: 0.8498 - val_loss: 0.8379 - val_accuracy: 0.7399\n",
            "Epoch 9/40\n",
            "699/699 [==============================] - 72s 103ms/step - loss: 1.7498 - accuracy: 0.8577 - val_loss: 0.8613 - val_accuracy: 0.7327\n",
            "Epoch 10/40\n",
            "699/699 [==============================] - 72s 104ms/step - loss: 1.5834 - accuracy: 0.8721 - val_loss: 0.8764 - val_accuracy: 0.7375\n",
            "Epoch 11/40\n",
            "699/699 [==============================] - 73s 105ms/step - loss: 1.4649 - accuracy: 0.8793 - val_loss: 0.8764 - val_accuracy: 0.7351\n",
            "Epoch 12/40\n",
            "699/699 [==============================] - 74s 106ms/step - loss: 1.3661 - accuracy: 0.8947 - val_loss: 0.8489 - val_accuracy: 0.7601\n",
            "Epoch 13/40\n",
            "699/699 [==============================] - 77s 110ms/step - loss: 1.2563 - accuracy: 0.8991 - val_loss: 0.8911 - val_accuracy: 0.7589\n",
            "Epoch 14/40\n",
            "699/699 [==============================] - 75s 107ms/step - loss: 1.1716 - accuracy: 0.9041 - val_loss: 0.8870 - val_accuracy: 0.7542\n",
            "Epoch 15/40\n",
            "699/699 [==============================] - 74s 106ms/step - loss: 1.1165 - accuracy: 0.9088 - val_loss: 0.8960 - val_accuracy: 0.7637\n",
            "Epoch 16/40\n",
            "699/699 [==============================] - 78s 111ms/step - loss: 1.0464 - accuracy: 0.9145 - val_loss: 0.9439 - val_accuracy: 0.7482\n",
            "Epoch 17/40\n",
            "699/699 [==============================] - 74s 106ms/step - loss: 0.9581 - accuracy: 0.9236 - val_loss: 0.9347 - val_accuracy: 0.7637\n",
            "Epoch 18/40\n",
            "699/699 [==============================] - 74s 106ms/step - loss: 0.9143 - accuracy: 0.9254 - val_loss: 0.9457 - val_accuracy: 0.7828\n",
            "Epoch 19/40\n",
            "699/699 [==============================] - 74s 106ms/step - loss: 0.8414 - accuracy: 0.9322 - val_loss: 0.9536 - val_accuracy: 0.7792\n",
            "Epoch 20/40\n",
            "699/699 [==============================] - 73s 104ms/step - loss: 0.7991 - accuracy: 0.9345 - val_loss: 1.0214 - val_accuracy: 0.7721\n",
            "Epoch 21/40\n",
            "699/699 [==============================] - 73s 105ms/step - loss: 0.7668 - accuracy: 0.9397 - val_loss: 0.9825 - val_accuracy: 0.7876\n",
            "Epoch 22/40\n",
            "699/699 [==============================] - 74s 105ms/step - loss: 0.7312 - accuracy: 0.9419 - val_loss: 0.9547 - val_accuracy: 0.7900\n",
            "Epoch 23/40\n",
            "699/699 [==============================] - 76s 109ms/step - loss: 0.6356 - accuracy: 0.9490 - val_loss: 1.0501 - val_accuracy: 0.7840\n",
            "Epoch 24/40\n",
            "699/699 [==============================] - 72s 103ms/step - loss: 0.6577 - accuracy: 0.9492 - val_loss: 1.0207 - val_accuracy: 0.7971\n",
            "Epoch 25/40\n",
            "699/699 [==============================] - 72s 103ms/step - loss: 0.6268 - accuracy: 0.9497 - val_loss: 1.0086 - val_accuracy: 0.7876\n",
            "Epoch 26/40\n",
            "699/699 [==============================] - 73s 104ms/step - loss: 0.5993 - accuracy: 0.9512 - val_loss: 1.0747 - val_accuracy: 0.7816\n",
            "Epoch 27/40\n",
            "699/699 [==============================] - 74s 105ms/step - loss: 0.5689 - accuracy: 0.9524 - val_loss: 1.0872 - val_accuracy: 0.7852\n",
            "Epoch 28/40\n",
            "699/699 [==============================] - 76s 109ms/step - loss: 0.5381 - accuracy: 0.9574 - val_loss: 1.0667 - val_accuracy: 0.7888\n",
            "Epoch 29/40\n",
            "699/699 [==============================] - 72s 103ms/step - loss: 0.5629 - accuracy: 0.9555 - val_loss: 1.0726 - val_accuracy: 0.7924\n",
            "Epoch 30/40\n",
            "699/699 [==============================] - 71s 101ms/step - loss: 0.5222 - accuracy: 0.9565 - val_loss: 1.1469 - val_accuracy: 0.7876\n",
            "Epoch 31/40\n",
            "699/699 [==============================] - 72s 102ms/step - loss: 0.5078 - accuracy: 0.9617 - val_loss: 1.1439 - val_accuracy: 0.7876\n",
            "Epoch 32/40\n",
            "699/699 [==============================] - 72s 103ms/step - loss: 0.4909 - accuracy: 0.9610 - val_loss: 1.1093 - val_accuracy: 0.7924\n",
            "Epoch 33/40\n",
            "699/699 [==============================] - 72s 102ms/step - loss: 0.4723 - accuracy: 0.9621 - val_loss: 1.1464 - val_accuracy: 0.7924\n",
            "Epoch 34/40\n",
            "699/699 [==============================] - 75s 107ms/step - loss: 0.4230 - accuracy: 0.9658 - val_loss: 1.2248 - val_accuracy: 0.7828\n",
            "Epoch 35/40\n",
            "699/699 [==============================] - 73s 104ms/step - loss: 0.4116 - accuracy: 0.9689 - val_loss: 1.1949 - val_accuracy: 0.7947\n",
            "Epoch 36/40\n",
            "699/699 [==============================] - 72s 103ms/step - loss: 0.4222 - accuracy: 0.9658 - val_loss: 1.1888 - val_accuracy: 0.7947\n",
            "Epoch 37/40\n",
            "699/699 [==============================] - 72s 102ms/step - loss: 0.4212 - accuracy: 0.9687 - val_loss: 1.1875 - val_accuracy: 0.7936\n",
            "Epoch 38/40\n",
            "699/699 [==============================] - 71s 102ms/step - loss: 0.3966 - accuracy: 0.9685 - val_loss: 1.2253 - val_accuracy: 0.7912\n",
            "Epoch 39/40\n",
            "699/699 [==============================] - 72s 103ms/step - loss: 0.4015 - accuracy: 0.9678 - val_loss: 1.1966 - val_accuracy: 0.7888\n",
            "Epoch 40/40\n",
            "699/699 [==============================] - 72s 103ms/step - loss: 0.3850 - accuracy: 0.9689 - val_loss: 1.2089 - val_accuracy: 0.7900\n"
          ]
        }
      ]
    },
    {
      "cell_type": "code",
      "source": [
        "# Prediction on Test Data\n",
        "predicted_bi_lstm = model.predict(test_data_2)\n",
        "predicted_bi_lstm"
      ],
      "metadata": {
        "colab": {
          "base_uri": "https://localhost:8080/"
        },
        "id": "lotwgHilq-7n",
        "outputId": "af75507b-799f-4215-80a5-336b6818b871"
      },
      "execution_count": null,
      "outputs": [
        {
          "output_type": "stream",
          "name": "stdout",
          "text": [
            "18/18 [==============================] - 2s 36ms/step\n"
          ]
        },
        {
          "output_type": "execute_result",
          "data": {
            "text/plain": [
              "array([[9.34649944e-01, 1.37885185e-02, 3.40061355e-03, 1.56237911e-02,\n",
              "        3.13090310e-02, 1.22798432e-03],\n",
              "       [1.69078049e-07, 9.99999583e-01, 1.49692223e-08, 2.53637154e-07,\n",
              "        4.40444486e-11, 3.41678130e-10],\n",
              "       [5.31703437e-09, 2.47836169e-07, 1.34949502e-07, 5.10292239e-07,\n",
              "        1.53005658e-05, 9.99983728e-01],\n",
              "       ...,\n",
              "       [2.77449974e-08, 6.19693083e-07, 1.85849160e-06, 3.11805479e-07,\n",
              "        1.24273694e-03, 9.98754442e-01],\n",
              "       [9.99397874e-01, 1.94951625e-07, 7.77060559e-05, 8.32053448e-09,\n",
              "        5.24062663e-04, 1.96878762e-08],\n",
              "       [6.30236130e-08, 5.62303759e-09, 1.46196010e-06, 1.66600191e-08,\n",
              "        9.98088121e-01, 1.91028207e-03]], dtype=float32)"
            ]
          },
          "metadata": {},
          "execution_count": 83
        }
      ]
    },
    {
      "cell_type": "code",
      "source": [
        "import sklearn\n",
        "from sklearn.metrics import precision_recall_fscore_support as score\n",
        "precision, recall, fscore, support = score(test_labels_2, predicted_bi_lstm.round())\n",
        "\n",
        "print('precision: {}'.format(precision))\n",
        "print('recall: {}'.format(recall))\n",
        "print('fscore: {}'.format(fscore))\n",
        "print('support: {}'.format(support))\n",
        "print('################################')\n",
        "print(sklearn.metrics.classification_report(test_labels_2, predicted_bi_lstm.round()))"
      ],
      "metadata": {
        "colab": {
          "base_uri": "https://localhost:8080/"
        },
        "id": "2PgTLFucrMDv",
        "outputId": "f02b64a2-9614-498b-9e4d-4270a15293f5"
      },
      "execution_count": null,
      "outputs": [
        {
          "output_type": "stream",
          "name": "stdout",
          "text": [
            "precision: [0.89247312 0.76923077 0.63414634 0.75       0.78651685 0.88349515]\n",
            "recall: [0.79807692 0.76086957 0.63414634 0.64285714 0.85365854 0.89215686]\n",
            "fscore: [0.84263959 0.76502732 0.63414634 0.69230769 0.81871345 0.88780488]\n",
            "support: [104  92  82  98  82 102]\n",
            "################################\n",
            "              precision    recall  f1-score   support\n",
            "\n",
            "           0       0.89      0.80      0.84       104\n",
            "           1       0.77      0.76      0.77        92\n",
            "           2       0.63      0.63      0.63        82\n",
            "           3       0.75      0.64      0.69        98\n",
            "           4       0.79      0.85      0.82        82\n",
            "           5       0.88      0.89      0.89       102\n",
            "\n",
            "   micro avg       0.79      0.77      0.78       560\n",
            "   macro avg       0.79      0.76      0.77       560\n",
            "weighted avg       0.79      0.77      0.78       560\n",
            " samples avg       0.77      0.77      0.77       560\n",
            "\n"
          ]
        },
        {
          "output_type": "stream",
          "name": "stderr",
          "text": [
            "/usr/local/lib/python3.10/dist-packages/sklearn/metrics/_classification.py:1344: UndefinedMetricWarning: Precision and F-score are ill-defined and being set to 0.0 in samples with no predicted labels. Use `zero_division` parameter to control this behavior.\n",
            "  _warn_prf(average, modifier, msg_start, len(result))\n"
          ]
        }
      ]
    },
    {
      "cell_type": "code",
      "source": [
        "from sklearn.metrics import confusion_matrix\n",
        "import seaborn as sns"
      ],
      "metadata": {
        "id": "9uyFd4InkxMk"
      },
      "execution_count": null,
      "outputs": []
    },
    {
      "cell_type": "code",
      "source": [
        "cm = confusion_matrix(test_labels_2.argmax(axis=1), predicted_bi_lstm.round().argmax(axis=1))"
      ],
      "metadata": {
        "id": "9HW-l_xA4DZR"
      },
      "execution_count": null,
      "outputs": []
    },
    {
      "cell_type": "code",
      "source": [
        "# create a heatmap\n",
        "sns.heatmap(cm, annot=True, fmt='d', cmap='Blues')\n",
        "\n",
        "# set the labels\n",
        "plt.xlabel(\"Predicted Label\")\n",
        "plt.ylabel(\"True Label\")\n",
        "\n",
        "# set the title\n",
        "plt.title(\"Confusion Matrix\")\n",
        "\n",
        "# show the plot\n",
        "plt.show()"
      ],
      "metadata": {
        "colab": {
          "base_uri": "https://localhost:8080/",
          "height": 472
        },
        "id": "svcgWCsE29JA",
        "outputId": "7d176cde-b21e-476c-f619-2c5e98b303ec"
      },
      "execution_count": null,
      "outputs": [
        {
          "output_type": "display_data",
          "data": {
            "text/plain": [
              "<Figure size 640x480 with 2 Axes>"
            ],
            "image/png": "[encoded data removed]"
          },
          "metadata": {}
        }
      ]
    },
    {
      "cell_type": "code",
      "source": [
        "test_labels_2"
      ],
      "metadata": {
        "colab": {
          "base_uri": "https://localhost:8080/"
        },
        "id": "8wd3UT12kxD8",
        "outputId": "2c4b2d6f-6e4c-43a1-e986-edb469f4ac3d"
      },
      "execution_count": null,
      "outputs": [
        {
          "output_type": "execute_result",
          "data": {
            "text/plain": [
              "array([[1., 0., 0., 0., 0., 0.],\n",
              "       [1., 0., 0., 0., 0., 0.],\n",
              "       [0., 0., 0., 0., 0., 1.],\n",
              "       ...,\n",
              "       [0., 0., 0., 0., 0., 1.],\n",
              "       [0., 0., 0., 0., 1., 0.],\n",
              "       [0., 0., 0., 0., 1., 0.]], dtype=float32)"
            ]
          },
          "metadata": {},
          "execution_count": 86
        }
      ]
    },
    {
      "cell_type": "code",
      "source": [
        "predicted_bi_lstm.round()"
      ],
      "metadata": {
        "colab": {
          "base_uri": "https://localhost:8080/"
        },
        "id": "4Lnu6Jzekw6F",
        "outputId": "40e2bd5d-3f22-40bd-ce2e-0cd8c34491d5"
      },
      "execution_count": null,
      "outputs": [
        {
          "output_type": "execute_result",
          "data": {
            "text/plain": [
              "array([[1., 0., 0., 0., 0., 0.],\n",
              "       [0., 1., 0., 0., 0., 0.],\n",
              "       [0., 0., 0., 0., 0., 1.],\n",
              "       ...,\n",
              "       [0., 0., 0., 0., 0., 1.],\n",
              "       [1., 0., 0., 0., 0., 0.],\n",
              "       [0., 0., 0., 0., 1., 0.]], dtype=float32)"
            ]
          },
          "metadata": {},
          "execution_count": 87
        }
      ]
    },
    {
      "cell_type": "code",
      "source": [
        "def accuracy_plot(history):\n",
        "\n",
        "    fig, ax = plt.subplots(1, 2, figsize=(12,5))\n",
        "\n",
        "    fig.suptitle('Model Performance with Epochs', fontsize = 16)\n",
        "    # Subplot 1\n",
        "    ax[0].plot(history.history['accuracy'])\n",
        "    ax[0].plot(history.history['val_accuracy'])\n",
        "    ax[0].set_title('Model Accuracy', fontsize = 14)\n",
        "    ax[0].set_xlabel('Epochs', fontsize = 12)\n",
        "    ax[0].set_ylabel('Accuracy', fontsize = 12)\n",
        "    ax[0].legend(['train', 'validation'], loc='best')\n",
        "\n",
        "    # Subplot 2\n",
        "    ax[1].plot(history.history['loss'])\n",
        "    ax[1].plot(history.history['val_loss'])\n",
        "    ax[1].set_title('Model Loss', fontsize = 14)\n",
        "    ax[1].set_xlabel('Epochs', fontsize = 12)\n",
        "    ax[1].set_ylabel('Loss', fontsize = 12)\n",
        "    ax[1].legend(['train', 'validation'], loc='best')\n",
        "\n",
        "    plt.savefig(f'/content/drive/MyDrive/Text Sensitivity/model_accuracy fasttext(sg=0).pdf',format='pdf', bbox_inches='tight')\n",
        "accuracy_plot(history)"
      ],
      "metadata": {
        "colab": {
          "base_uri": "https://localhost:8080/",
          "height": 519
        },
        "id": "xTU5xxpfrPai",
        "outputId": "3605b7fa-21c2-4b6d-ed10-79b71299becf"
      },
      "execution_count": null,
      "outputs": [
        {
          "output_type": "display_data",
          "data": {
            "text/plain": [
              "<Figure size 1200x500 with 2 Axes>"
            ],
            "image/png": "[encoded data removed]"
          },
          "metadata": {}
        }
      ]
    },
    {
      "cell_type": "code",
      "source": [
        "len(train_data[0])"
      ],
      "metadata": {
        "id": "B9OX1TQ8k9xk"
      },
      "execution_count": null,
      "outputs": []
    }
  ]
}